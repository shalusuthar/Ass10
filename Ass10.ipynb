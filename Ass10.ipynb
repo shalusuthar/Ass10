{
 "cells": [
  {
   "cell_type": "markdown",
   "id": "a92767f4-b716-47c3-a832-b90c51ad4577",
   "metadata": {},
   "source": [
    "Q1.What is multithreading in python? Why is it used? Name the module used to handle threads in python.\n",
    "\n",
    "Ans.Multithreading is a stringing procedure in Python programming to run various strings simultaneously by quickly exchanging between strings with a central processor help (called setting exchanging). In addition, it makes it possible to share its data space with the primary threads of a process, making it easier than with individual processes to share information and communicate with other threads. The goal of multithreading is to complete multiple tasks at the same time, which improves application rendering and performance.\n",
    "Threading module is used to handle threads in python.\n",
    "\n",
    "Python multithreading enables efficient utilization of the resources as the threads share the data space and memory. Multithreading in Python allows the concurrent and parallel occurrence of various tasks. It causes a reduction in time consumption or response time, thereby increasing the performance."
   ]
  },
  {
   "cell_type": "code",
   "execution_count": null,
   "id": "a0cf02e7-a3f8-4e9a-a454-2e1404c8a154",
   "metadata": {},
   "outputs": [],
   "source": []
  },
  {
   "cell_type": "markdown",
   "id": "9ff9f11d-7683-4f32-908f-b222c7beb84a",
   "metadata": {},
   "source": [
    "Q2. why threading module used? Write the use of the following functions\n",
    "\n",
    "\n",
    "**The threading module provides a very simple and intuitive API for spawning multiple threads in a program.**\n",
    "\n",
    "\n",
    "\n",
    "1.activeCount( )  -> Returns the number of thread objects that are active. threading. currentThread() − Returns the number of thread objects in the caller's thread control. threading.\n",
    " \n",
    "2.currentThread( ) -> Returns the number of thread objects in the caller's thread control. threading. enumerate() − Returns a list of all thread objects that are currently active.\n",
    " \n",
    " 3.enumerate( ) -> Enumerate is a built-in function in python that allows you to keep track of the number of iterations (loops) in a loop. This enumerate object contains a count (from the start, which always defaults to 0) and a value obtained from iterating over the iterable object."
   ]
  },
  {
   "cell_type": "code",
   "execution_count": null,
   "id": "b1f18f5c-6676-4625-a1fc-af6af0ab463e",
   "metadata": {},
   "outputs": [],
   "source": []
  },
  {
   "cell_type": "markdown",
   "id": "698ec24b-c5c6-492b-aa7c-5a7d7041c757",
   "metadata": {},
   "source": [
    "Q3. Explain the following functions\n",
    "\n",
    "1.run( ) -> The standard run() method invokes the callable object passed to the object's constructor as the target argument, if any, with positional and keyword arguments taken from the args and kwargs arguments, respectively. \n",
    "\n",
    "2.start( ) -> start() method is an inbuilt method of the Thread class of the threading module, it is used to start a thread's activity. This method calls the run() method internally which then executes the target method. This method must be called at most one time for one thread.\n",
    "\n",
    "3.join( ) -> The Python join() function is used to join all the elements from the iterable and create a string and return it as an output to the user. Python join() returns a new string which is the concatenation of the other strings in the iterable specified.\n",
    "\n",
    "4.isAlive( ) -> The isAlive() method checks whether a thread is still executing. getName() − The getName() method returns the name of a thread. setName() − The setName() method sets the name of a thread."
   ]
  },
  {
   "cell_type": "code",
   "execution_count": null,
   "id": "6a488015-66f9-4e0f-8d19-29701c31c047",
   "metadata": {},
   "outputs": [],
   "source": []
  },
  {
   "cell_type": "markdown",
   "id": "aac3f5df-90dd-44a5-a18c-d01ab0380f28",
   "metadata": {},
   "source": [
    "Q4. Write a python program to create two threads. Thread one must print the list of squares and thread\n",
    "two must print the list of cubes."
   ]
  },
  {
   "cell_type": "code",
   "execution_count": null,
   "id": "336f7e6a-eca5-4e4b-9b8e-c55772236ae3",
   "metadata": {},
   "outputs": [],
   "source": []
  },
  {
   "cell_type": "code",
   "execution_count": 10,
   "id": "b3e08361-5b13-4ff9-a3a3-f72a0961145c",
   "metadata": {},
   "outputs": [
    {
     "name": "stdout",
     "output_type": "stream",
     "text": [
      " Calculate the square root of the given number\n",
      " Square is :  16\n",
      " Square is :  25\n",
      " Square is :  36\n",
      " Square is :  49\n",
      " Square is :  4\n",
      " Calculate the cube of  the given number\n",
      " Cube is :  64\n",
      " Cube is :  125\n",
      " Cube is :  216\n",
      " Cube is :  343\n",
      " Cube is :  8\n",
      " Total time taken by threads is : 3.0049843788146973\n"
     ]
    }
   ],
   "source": [
    "import threading \n",
    "import time\n",
    "\n",
    "  \n",
    "def cal_sqre(num): # define the cal_sqre function  \n",
    "    print(\" Calculate the square root of the given number\")  \n",
    "    for n in num:   \n",
    "        time.sleep(0.3) # at each iteration it waits for 0.3 time  \n",
    "        print(' Square is : ', n * n)  \n",
    "  \n",
    "def cal_cube(num): # define the cal_cube() function  \n",
    "    print(\" Calculate the cube of  the given number\")  \n",
    "    for n in num:   \n",
    "        time.sleep(0.3) # at each iteration it waits for 0.3 time  \n",
    "        print(\" Cube is : \", n * n *n)  \n",
    "  \n",
    "arr = [4, 5, 6, 7, 2] # given array  \n",
    "  \n",
    "t1 = time.time() # get total time to execute the functions  \n",
    "cal_sqre(arr) # call cal_sqre() function  \n",
    "cal_cube(arr) # call cal_cube() function  \n",
    "  \n",
    "print(\" Total time taken by threads is :\", time.time() - t1) # print the total time  \n"
   ]
  },
  {
   "cell_type": "code",
   "execution_count": null,
   "id": "0a3a64d5-1393-4c9d-b94d-4f220f076765",
   "metadata": {},
   "outputs": [],
   "source": []
  },
  {
   "cell_type": "markdown",
   "id": "e4dbf8fd-2a97-4c5b-ae0b-4a4fcc05a663",
   "metadata": {},
   "source": [
    "Q5. State advantages and disadvantages of multithreading.\n",
    "\n",
    "Advantages ->\n",
    "\n",
    "1.It guarantees powerful usage of PC framework assets.\n",
    "\n",
    "2.Applications with multiple threads respond faster.\n",
    "\n",
    "3.It is more cost-effective because it shares resources and its state with sub-threads (child).\n",
    "\n",
    "4.It makes the multiprocessor engineering more viable because of closeness.\n",
    "\n",
    "5.By running multiple threads simultaneously, it cuts down on time.\n",
    "\n",
    "6.To store multiple threads, the system does not require a lot of memory.\n",
    "\n",
    "\n",
    "Disadvantages -> \n",
    "\n",
    "1.A multithreading system cannot be interrupted.\n",
    "\n",
    "2.The code can be more challenging to understand.\n",
    "\n",
    "3.The overhead associated with managing different threads may be too costly for basic tasks.\n",
    "\n",
    "Debugging and troubleshooting issues may become more challenging because the code can be complex.\n",
    "\n"
   ]
  },
  {
   "cell_type": "code",
   "execution_count": null,
   "id": "d461f6f0-d6cc-4e27-8d18-4de085249528",
   "metadata": {},
   "outputs": [],
   "source": []
  },
  {
   "cell_type": "markdown",
   "id": "07aa8b9c-2699-4643-ab33-3fbf0dfd139e",
   "metadata": {},
   "source": [
    "Q6. Explain deadlocks and race conditions.\n",
    "\n",
    "Ans. A race condition occurs when two threads use the same variable at a given time. \n",
    "\n",
    "Deadlock exists when two threads seek one lock simultaneously. This situation will stop both threads from processing or executing the functions."
   ]
  }
 ],
 "metadata": {
  "kernelspec": {
   "display_name": "Python 3 (ipykernel)",
   "language": "python",
   "name": "python3"
  },
  "language_info": {
   "codemirror_mode": {
    "name": "ipython",
    "version": 3
   },
   "file_extension": ".py",
   "mimetype": "text/x-python",
   "name": "python",
   "nbconvert_exporter": "python",
   "pygments_lexer": "ipython3",
   "version": "3.10.8"
  }
 },
 "nbformat": 4,
 "nbformat_minor": 5
}
